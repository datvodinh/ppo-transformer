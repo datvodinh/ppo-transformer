{
 "cells": [
  {
   "attachments": {},
   "cell_type": "markdown",
   "metadata": {},
   "source": [
    "##  Viết nhanh level -1"
   ]
  },
  {
   "cell_type": "code",
   "execution_count": null,
   "metadata": {},
   "outputs": [],
   "source": [
    "import os\n",
    "game_name = 'WelcomeToTheDungeon_v1'\n",
    "start = ',\\n  \"-1\": [\\n   [],\\n   [],\\n   ['\n",
    "print(start)\n",
    "for i in os.listdir(f'A:\\ENV\\Agent\\Ifelse\\{game_name}'):\n",
    "    print(f'    \"{i[:-3]}\"', end=',\\n')\n",
    "end = '   ]\\n  ]'\n",
    "print(end)"
   ]
  },
  {
   "cell_type": "code",
   "execution_count": null,
   "metadata": {},
   "outputs": [],
   "source": [
    "import json\n",
    "a = json.load(open('A:\\ENV\\Log\\level_game.json'))\n",
    "for i in a:\n",
    "    print(i, '-------------', list(a[i].keys())[2:])"
   ]
  },
  {
   "attachments": {},
   "cell_type": "markdown",
   "metadata": {},
   "source": [
    "##  Kiểm tra hiệu suất của mô hình"
   ]
  },
  {
   "cell_type": "code",
   "execution_count": 2,
   "metadata": {},
   "outputs": [
    {
     "name": "stdout",
     "output_type": "stream",
     "text": [
      "A:\\ENV\n"
     ]
    }
   ],
   "source": [
    "##  Kiểm tra hiện suất của hệ thống\n",
    "#  !git clone https://github.com/ngoxuanphong/ENV.git\n",
    "%cd A:/ENV\n",
    "import warnings \n",
    "warnings.filterwarnings('ignore')\n",
    "from numba.core.errors import NumbaDeprecationWarning, NumbaPendingDeprecationWarning,NumbaExperimentalFeatureWarning, NumbaWarning\n",
    "warnings.simplefilter('ignore', category=NumbaDeprecationWarning)\n",
    "warnings.simplefilter('ignore', category=NumbaPendingDeprecationWarning)\n",
    "warnings.simplefilter('ignore', category=NumbaExperimentalFeatureWarning)\n",
    "warnings.simplefilter('ignore', category=NumbaWarning)\n",
    "\n",
    "from numba import njit\n",
    "from numba.typed import List\n",
    "import numpy as np\n",
    "from setup import make\n",
    "import os\n",
    "import pandas as pd\n",
    "from time import time"
   ]
  },
  {
   "cell_type": "code",
   "execution_count": 5,
   "metadata": {},
   "outputs": [
    {
     "name": "stdout",
     "output_type": "stream",
     "text": [
      "Game name: Exploding_Kitten | Win rate: \n",
      "        Level 0: 2081/10000 in 10 seconds\n",
      "        Level 1: False/10000 in 9 seconds\n",
      "        Level -1: Chưa có level này\n"
     ]
    },
    {
     "data": {
      "text/plain": [
       "{'Exploding_Kitten': {'Win rate': [2081, False, False],\n",
       "  'Time': [10, 9, False],\n",
       "  'Graphics': True}}"
      ]
     },
     "execution_count": 5,
     "metadata": {},
     "output_type": "execute_result"
    }
   ],
   "source": [
    "def test_game(game_name, dict_test = {}):\n",
    "    env = make(game_name)\n",
    "    getValidActions = env.getValidActions\n",
    "    numba_main_2 = env.numba_main_2\n",
    "\n",
    "    @njit()\n",
    "    def Test(state, perData):\n",
    "        validActions =env.getValidActions(state)\n",
    "        arr_action = np.where(validActions==1)[0]\n",
    "        idx = np.random.randint(0, arr_action.shape[0])\n",
    "        return arr_action[idx], perData\n",
    "    \n",
    "    per_test = [0]\n",
    "    a = time()\n",
    "    win1, per_test = numba_main_2(Test, 10000, per_test, 0)\n",
    "    b = time()\n",
    "    try:\n",
    "        win2, per_test = numba_main_2(Test, 10000, per_test, 1)\n",
    "    except:\n",
    "        win2 = False\n",
    "    c = time()\n",
    "    print(f'Game name: {game_name} | Win rate: ')\n",
    "    print(f'        Level 0: {win1}/10000 in {int(b-a)} seconds')\n",
    "    print(f'        Level 1: {win2}/10000 in {int(c-b)} seconds')\n",
    "    try:\n",
    "        win3, per_test = numba_main_2(Test, 10000, per_test, -1)\n",
    "        d = time()\n",
    "        time_lv_if = int(d-c)\n",
    "    except:\n",
    "        win3 = False\n",
    "        time_lv_if = False\n",
    "    if not win3:\n",
    "        print(f'        Level -1: Chưa có level này')\n",
    "    else:\n",
    "        print(f'        Level -1: {win3}/10000 in {int(d-c)} seconds')\n",
    "    dict_test[game_name] = {'Win rate': [win1, win2, win3], \n",
    "                            'Time': [int(b-a), int(c-b), time_lv_if],\n",
    "                            'Graphics': os.path.exists(f'Base/{game_name}/_render_func.py')}\n",
    "    return dict_test\n",
    "\n",
    "test_game('Exploding_Kitten')"
   ]
  },
  {
   "cell_type": "code",
   "execution_count": 6,
   "metadata": {},
   "outputs": [
    {
     "name": "stdout",
     "output_type": "stream",
     "text": [
      "Game name: Catan | Win rate: \n",
      "        Level 0: 2464/10000 in 209 seconds\n",
      "        Level 1: 226/10000 in 149 seconds\n",
      "        Level -1: 18/10000 in 142 seconds\n",
      "Game name: CatanNoExchange | Win rate: \n",
      "        Level 0: 2484/10000 in 135 seconds\n",
      "        Level 1: 348/10000 in 736 seconds\n",
      "        Level -1: 25/10000 in 104 seconds\n",
      "Game name: Century | Win rate: \n",
      "        Level 0: 2004/10000 in 24 seconds\n",
      "        Level 1: 17/10000 in 54 seconds\n",
      "        Level -1: Chưa có level này\n",
      "Game name: Durak | Win rate: \n",
      "        Level 0: 2530/10000 in 9 seconds\n",
      "        Level 1: 438/10000 in 13 seconds\n",
      "        Level -1: Chưa có level này\n",
      "Game name: Exploding_Kitten | Win rate: \n",
      "        Level 0: 1983/10000 in 11 seconds\n",
      "        Level 1: False/10000 in 9 seconds\n",
      "        Level -1: Chưa có level này\n",
      "Game name: Fantan | Win rate: \n",
      "        Level 0: 2503/10000 in 18 seconds\n",
      "        Level 1: 106/10000 in 33 seconds\n",
      "        Level -1: Chưa có level này\n",
      "Game name: GoFish | Win rate: \n",
      "        Level 0: 2537/10000 in 8 seconds\n",
      "        Level 1: 2497/10000 in 7 seconds\n",
      "        Level -1: 536/10000 in 14 seconds\n"
     ]
    },
    {
     "ename": "ValueError",
     "evalue": "empty range for randrange()",
     "output_type": "error",
     "traceback": [
      "\u001b[1;31m---------------------------------------------------------------------------\u001b[0m",
      "\u001b[1;31mValueError\u001b[0m                                Traceback (most recent call last)",
      "Cell \u001b[1;32mIn[6], line 4\u001b[0m\n\u001b[0;32m      2\u001b[0m dict_test \u001b[39m=\u001b[39m {}\n\u001b[0;32m      3\u001b[0m \u001b[39mfor\u001b[39;00m game_name \u001b[39min\u001b[39;00m os\u001b[39m.\u001b[39mlistdir(\u001b[39m'\u001b[39m\u001b[39mBase\u001b[39m\u001b[39m'\u001b[39m):\n\u001b[1;32m----> 4\u001b[0m     dict_test \u001b[39m=\u001b[39m test_game(game_name, dict_test)\n\u001b[0;32m      5\u001b[0m df \u001b[39m=\u001b[39m pd\u001b[39m.\u001b[39mDataFrame(dict_test)\u001b[39m.\u001b[39mT\n\u001b[0;32m      6\u001b[0m df\u001b[39m.\u001b[39mto_csv(\u001b[39m'\u001b[39m\u001b[39mA:/ENV/Benchmark/time_win.csv\u001b[39m\u001b[39m'\u001b[39m)\n",
      "Cell \u001b[1;32mIn[5], line 15\u001b[0m, in \u001b[0;36mtest_game\u001b[1;34m(game_name, dict_test)\u001b[0m\n\u001b[0;32m     13\u001b[0m per_test \u001b[39m=\u001b[39m [\u001b[39m0\u001b[39m]\n\u001b[0;32m     14\u001b[0m a \u001b[39m=\u001b[39m time()\n\u001b[1;32m---> 15\u001b[0m win1, per_test \u001b[39m=\u001b[39m numba_main_2(Test, \u001b[39m10000\u001b[39;49m, per_test, \u001b[39m0\u001b[39;49m)\n\u001b[0;32m     16\u001b[0m b \u001b[39m=\u001b[39m time()\n\u001b[0;32m     17\u001b[0m \u001b[39mtry\u001b[39;00m:\n",
      "File \u001b[1;32mA:\\ENV\\Base\\Imploding_Kitten\\_env.py:1045\u001b[0m, in \u001b[0;36mnumba_main_2\u001b[1;34m(p0, num_game, per_player, level, *args)\u001b[0m\n\u001b[0;32m   1042\u001b[0m load_agent(level, \u001b[39m*\u001b[39margs)\n\u001b[0;32m   1044\u001b[0m \u001b[39mif\u001b[39;00m check_njit:\n\u001b[1;32m-> 1045\u001b[0m     \u001b[39mreturn\u001b[39;00m n_game_numba(\n\u001b[0;32m   1046\u001b[0m         p0,\n\u001b[0;32m   1047\u001b[0m         num_game,\n\u001b[0;32m   1048\u001b[0m         per_player,\n\u001b[0;32m   1049\u001b[0m         list_other,\n\u001b[0;32m   1050\u001b[0m         _list_per_level_[\u001b[39m0\u001b[39;49m],\n\u001b[0;32m   1051\u001b[0m         _list_per_level_[\u001b[39m1\u001b[39;49m],\n\u001b[0;32m   1052\u001b[0m         _list_per_level_[\u001b[39m2\u001b[39;49m],\n\u001b[0;32m   1053\u001b[0m         _list_per_level_[\u001b[39m3\u001b[39;49m],\n\u001b[0;32m   1054\u001b[0m         _list_per_level_[\u001b[39m4\u001b[39;49m],\n\u001b[0;32m   1055\u001b[0m         _list_bot_level_[\u001b[39m0\u001b[39;49m],\n\u001b[0;32m   1056\u001b[0m         _list_bot_level_[\u001b[39m1\u001b[39;49m],\n\u001b[0;32m   1057\u001b[0m         _list_bot_level_[\u001b[39m2\u001b[39;49m],\n\u001b[0;32m   1058\u001b[0m         _list_bot_level_[\u001b[39m3\u001b[39;49m],\n\u001b[0;32m   1059\u001b[0m         _list_bot_level_[\u001b[39m4\u001b[39;49m],\n\u001b[0;32m   1060\u001b[0m     )\n\u001b[0;32m   1061\u001b[0m \u001b[39melse\u001b[39;00m:\n\u001b[0;32m   1062\u001b[0m     \u001b[39mreturn\u001b[39;00m n_game_normal(\n\u001b[0;32m   1063\u001b[0m         p0,\n\u001b[0;32m   1064\u001b[0m         num_game,\n\u001b[1;32m   (...)\u001b[0m\n\u001b[0;32m   1076\u001b[0m         _list_bot_level_[\u001b[39m4\u001b[39m],\n\u001b[0;32m   1077\u001b[0m     )\n",
      "\u001b[1;31mValueError\u001b[0m: empty range for randrange()"
     ]
    }
   ],
   "source": [
    "list_game = os.listdir('Base')\n",
    "dict_test = {}\n",
    "for game_name in os.listdir('Base'):\n",
    "    dict_test = test_game(game_name, dict_test)\n",
    "df = pd.DataFrame(dict_test).T\n",
    "df.to_csv('A:/ENV/Benchmark/time_win.csv')"
   ]
  },
  {
   "attachments": {},
   "cell_type": "markdown",
   "metadata": {},
   "source": [
    "##  Test lại agent level 2"
   ]
  },
  {
   "cell_type": "code",
   "execution_count": null,
   "metadata": {},
   "outputs": [],
   "source": [
    "#  Test lại agent lv2\n",
    "\n",
    "def test_game(game_name):\n",
    "    env = make(game_name)\n",
    "    getActionSize = env.getActionSize\n",
    "    getValidActions = env.getValidActions\n",
    "    getReward = env.getReward\n",
    "    numba_main_2 = env.numba_main_2\n",
    "\n",
    "    @njit\n",
    "    def Test(state,per):    \n",
    "        actions =env.getValidActions(state)\n",
    "        if per[-1][0][0][0][0] == 2:\n",
    "            depth_tree = int(per[14][0][0][0][0])\n",
    "            actions =env.getValidActions(state)\n",
    "            output = per[-4][0][0][depth_tree] * actions + actions\n",
    "            action = np.argmax(output)\n",
    "        else:\n",
    "            weight = per[-11][0][0][0]\n",
    "            output = actions*weight + actions\n",
    "            c = np.where(output == np.max(output))[0]\n",
    "            action = np.random.choice(c)\n",
    "            win = getReward(state)\n",
    "\n",
    "            per[-11][0][0] += per[-9][0][0][action]\n",
    "            if win != -1:\n",
    "                per[-11][0][0] = np.zeros((1, getActionSize()))\n",
    "        return action,per\n",
    "\n",
    "    def convert_to_save(per):\n",
    "        lst = []\n",
    "        for i in range(len(per)):\n",
    "            if len(per[i]) == 0:\n",
    "                lst.append(List([np.zeros((1,1,1))]))\n",
    "            else:\n",
    "                lst.append(per[i])\n",
    "        return lst\n",
    "\n",
    "    def convert_to_test(lst):\n",
    "        per = []\n",
    "        for i in range(len(lst)):\n",
    "            per.append(List(lst[i]))\n",
    "        return per\n",
    "    \n",
    "    try:\n",
    "        per_test = convert_to_test(np.load(f'A:\\Trash\\Data\\{game_name}.npy', allow_pickle=True))\n",
    "        win1, per_test = numba_main_2(Test, 10000, per_test, 1)\n",
    "        win2, per_test = numba_main_2(Test, 10000, per_test, -1)\n",
    "        print(f'Game name: {game_name} | Win rate: \\n      Level 1: {win1}/10000 | Level -1: {win2}/10000')\n",
    "    except:\n",
    "        print(f'Game name: {game_name} | Game này chưa có level if else')\n",
    "\n",
    "test_game('SushiGo')\n",
    "for game_name in ['Splendor', 'TLMN', 'Catan']:\n",
    "    test_game(game_name)\n",
    "import os\n",
    "list_game = os.listdir('A:\\Trash\\Data')\n",
    "for game_name in list_game:\n",
    "    test_game(game_name[:-4])"
   ]
  },
  {
   "attachments": {},
   "cell_type": "markdown",
   "metadata": {},
   "source": [
    "#  Test lại agent if else"
   ]
  },
  {
   "cell_type": "code",
   "execution_count": 2,
   "metadata": {},
   "outputs": [
    {
     "name": "stdout",
     "output_type": "stream",
     "text": [
      "A:\\ENV\n"
     ]
    }
   ],
   "source": [
    "##  Kiểm tra hiện suất của hệ thống\n",
    "#  !git clone https://github.com/ngoxuanphong/ENV.git\n",
    "%cd A:/ENV\n",
    "import importlib.util\n",
    "import warnings \n",
    "warnings.filterwarnings('ignore')\n",
    "from numba.core.errors import NumbaDeprecationWarning, NumbaPendingDeprecationWarning,NumbaExperimentalFeatureWarning, NumbaWarning\n",
    "warnings.simplefilter('ignore', category=NumbaDeprecationWarning)\n",
    "warnings.simplefilter('ignore', category=NumbaPendingDeprecationWarning)\n",
    "warnings.simplefilter('ignore', category=NumbaExperimentalFeatureWarning)\n",
    "warnings.simplefilter('ignore', category=NumbaWarning)\n",
    "\n",
    "from numba import njit\n",
    "from numba.typed import List\n",
    "import numba, os, sys\n",
    "import numpy as np\n",
    "from setup import make\n",
    "game_name = 'MachiKoro'\n",
    "env = make(game_name)\n",
    "getActionSize = env.getActionSize\n",
    "getStateSize = env.getStateSize\n",
    "getAgentSize = env.getAgentSize\n",
    "\n",
    "getValidActions = env.getValidActions\n",
    "getReward = env.getReward\n",
    "numba_main_2 = env.numba_main_2"
   ]
  },
  {
   "cell_type": "code",
   "execution_count": 7,
   "metadata": {},
   "outputs": [
    {
     "name": "stdout",
     "output_type": "stream",
     "text": [
      "game name: TicketToRide, Agent: PT | Win rate: 98/1\n"
     ]
    }
   ],
   "source": [
    "def run_game(game_name):\n",
    "    path  = f'A:\\ENV\\Agent\\Ifelse\\{game_name}'\n",
    "    env = make(game_name)\n",
    "    def load_module_player(player, game_name = None):\n",
    "        spec = importlib.util.spec_from_file_location('Agent_player', f\"Agent/Ifelse/{game_name}/{player}.py\")\n",
    "        module = importlib.util.module_from_spec(spec)\n",
    "        sys.modules[spec.name] = module\n",
    "        spec.loader.exec_module(module)\n",
    "        return module\n",
    "\n",
    "    for i in os.listdir(path):\n",
    "        if '.py' in i:\n",
    "            path_new = path + '/' + i\n",
    "            #  print(path_new)\n",
    "            agent = load_module_player(i[:-3], game_name = game_name)\n",
    "            win, per = env.numba_main_2(agent.Test, 10000, agent.DataAgent(), 1)\n",
    "            print(f'game name: {game_name}, Agent: {i[:-3]} | Win rate: {win}/1')\n",
    "\n",
    "#  for game_name in ['Exploding_Kitten', 'Fantan', 'GoFish', 'WelcomeToTheDungeon_v1', 'WelcomeToTheDungeon_v2', 'CatanNoExchange', ]:\n",
    "\n",
    "for game_name in ['TicketToRide']:\n",
    "    run_game(game_name) "
   ]
  },
  {
   "attachments": {},
   "cell_type": "markdown",
   "metadata": {},
   "source": [
    "#  Graphic\n"
   ]
  },
  {
   "cell_type": "code",
   "execution_count": 1,
   "metadata": {},
   "outputs": [
    {
     "name": "stdout",
     "output_type": "stream",
     "text": [
      "A:\\ENV\n"
     ]
    }
   ],
   "source": [
    "%cd A:/ENV"
   ]
  },
  {
   "cell_type": "code",
   "execution_count": 9,
   "metadata": {},
   "outputs": [],
   "source": [
    "from setup import make\n",
    "from Base.MachiKoro._env import bot_lv0\n",
    "env = make(\"Durak\")"
   ]
  },
  {
   "cell_type": "code",
   "execution_count": null,
   "metadata": {},
   "outputs": [],
   "source": [
    "env.render(Agent=\"human\", per_data=[0], level=0, max_temp_frame=100)"
   ]
  },
  {
   "cell_type": "code",
   "execution_count": null,
   "metadata": {},
   "outputs": [],
   "source": [
    "import time\n",
    "for i in range(10):\n",
    "    a = time.time()\n",
    "    env.render(Agent=bot_lv0, per_data=[0], level=1, max_temp_frame=100)\n",
    "    b = time.time()\n",
    "    print(int(b-a), i)\n",
    "    clear_output(wait=True)"
   ]
  },
  {
   "attachments": {},
   "cell_type": "markdown",
   "metadata": {},
   "source": [
    "# Remove file"
   ]
  },
  {
   "cell_type": "code",
   "execution_count": 2,
   "metadata": {},
   "outputs": [
    {
     "name": "stdout",
     "output_type": "stream",
     "text": [
      "a:\\ENV\n"
     ]
    }
   ],
   "source": [
    "%cd .."
   ]
  },
  {
   "cell_type": "code",
   "execution_count": 15,
   "metadata": {},
   "outputs": [],
   "source": [
    "import os, shutil"
   ]
  },
  {
   "cell_type": "code",
   "execution_count": 17,
   "metadata": {},
   "outputs": [],
   "source": [
    "for agent in os.listdir('A:/ENV/Agent'):\n",
    "    try:\n",
    "        list_game = os.listdir(f'A:/ENV/Agent/{agent}/Data/')\n",
    "        for game in list_game:\n",
    "            if 'CatanNoExchange_1' in game:\n",
    "                print(f'A:/ENV/Agent/{agent}/Data/{game}')\n",
    "                # os.remove(f'A:/ENV/Agent/{agent}/Data/{game}')\n",
    "                shutil.rmtree(f'A:/ENV/Agent/{agent}/Data/{game}')\n",
    "    except: pass"
   ]
  },
  {
   "cell_type": "code",
   "execution_count": 29,
   "metadata": {},
   "outputs": [
    {
     "name": "stdout",
     "output_type": "stream",
     "text": [
      "a:\\\n"
     ]
    }
   ],
   "source": [
    "%cd ..\n",
    "import os\n",
    "path = 'A:/ENV/Agent/'"
   ]
  },
  {
   "cell_type": "code",
   "execution_count": 21,
   "metadata": {},
   "outputs": [],
   "source": [
    "import os\n",
    "path = 'A:/ENV/Agent/'\n",
    "\n",
    "for agent in os.listdir(path):\n",
    "    try:\n",
    "        for file in os.listdir(f'{path}{agent}/Data'):\n",
    "            if '0' in f'{path}{agent}/Data/{file}':\n",
    "                path_old = f'{path}{agent}/Data/{file}'\n",
    "                path_new = path_old.replace('0', '1')\n",
    "                # os.rename(path_old, path_new)\n",
    "                print(path_old, path_new)\n",
    "    except: pass"
   ]
  },
  {
   "attachments": {},
   "cell_type": "markdown",
   "metadata": {},
   "source": [
    "# Kiểm tra level 1"
   ]
  },
  {
   "cell_type": "code",
   "execution_count": 1,
   "metadata": {},
   "outputs": [
    {
     "name": "stdout",
     "output_type": "stream",
     "text": [
      "a:\\ENV\n"
     ]
    }
   ],
   "source": [
    "%cd .."
   ]
  },
  {
   "cell_type": "code",
   "execution_count": 4,
   "metadata": {},
   "outputs": [
    {
     "name": "stdout",
     "output_type": "stream",
     "text": [
      "Catan (True, [])\n",
      "CatanNoExchange (False, ['numba_main_2, Số trận thắng khi kết thúc khác với sô trận check. Thắng khi dùng getReward: 2508, win: 2507'])\n",
      "Century (False, ['hàm numba_main_2 không train được với agent không numba'])\n",
      "Durak (True, [])\n",
      "Exploding_Kitten (True, [])\n",
      "Fantan (True, [])\n",
      "GoFish (True, [])\n",
      "Imploding_Kitten (True, [])\n",
      "MachiKoro (True, [])\n",
      "Poker (True, [])\n",
      "Sheriff (True, [])\n",
      "Splendor (True, [])\n",
      "Splendor_v2 (True, [])\n",
      "Splendor_v3 (True, [])\n",
      "StoneAge (True, [])\n",
      "SushiGo (True, [])\n",
      "TicketToRide (False, ['numba_main_2, Số trận thắng khi kết thúc khác với sô trận check. Thắng khi dùng getReward: 2027, win: 2028'])\n",
      "TLMN (True, [])\n",
      "WelcomeToTheDungeon_v1 (True, [])\n",
      "WelcomeToTheDungeon_v2 (True, [])\n",
      "__init__.py error\n",
      "__pycache__ error\n"
     ]
    }
   ],
   "source": [
    "import os\n",
    "from tests.CheckEnv import check_pytest\n",
    "for env_name in os.listdir('Base'):\n",
    "    try:\n",
    "        check = check_pytest(env_name)\n",
    "        print(env_name, check)\n",
    "    except: \n",
    "        print(env_name, 'error')"
   ]
  }
 ],
 "metadata": {
  "kernelspec": {
   "display_name": ".venv",
   "language": "python",
   "name": "python3"
  },
  "language_info": {
   "codemirror_mode": {
    "name": "ipython",
    "version": 3
   },
   "file_extension": ".py",
   "mimetype": "text/x-python",
   "name": "python",
   "nbconvert_exporter": "python",
   "pygments_lexer": "ipython3",
   "version": "3.10.0"
  },
  "orig_nbformat": 4
 },
 "nbformat": 4,
 "nbformat_minor": 2
}
