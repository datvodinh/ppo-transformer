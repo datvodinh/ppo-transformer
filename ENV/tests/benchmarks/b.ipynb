{
 "cells": [
  {
   "cell_type": "code",
   "execution_count": null,
   "metadata": {},
   "outputs": [],
   "source": [
    "%cd A:/ENV\n",
    "from setup import make\n",
    "from Base.Splendor_v2._env import bot_lv0\n",
    "env = make(\"Splendor_v2\")\n",
    "env.render(Agent=bot_lv0, per_data=[0], level=0, max_temp_frame=100)"
   ]
  },
  {
   "cell_type": "code",
   "execution_count": null,
   "metadata": {},
   "outputs": [],
   "source": [
    "%cd A:/ENV"
   ]
  },
  {
   "cell_type": "code",
   "execution_count": 7,
   "metadata": {},
   "outputs": [
    {
     "name": "stdout",
     "output_type": "stream",
     "text": [
      "Century\n",
      "Exploding_Kitten\n",
      "Fantan\n",
      "GoFish\n",
      "Imploding_Kitten\n",
      "Phom\n",
      "Sheriff\n",
      "WelcomeToTheDungeon_v1\n",
      "WelcomeToTheDungeon_v2\n"
     ]
    }
   ],
   "source": [
    "import os\n",
    "for i in os.listdir(\"Base\"):\n",
    "    if not '_render_func.py' in os.listdir(f\"Base/{i}\"):\n",
    "        print(i)"
   ]
  },
  {
   "cell_type": "code",
   "execution_count": 3,
   "metadata": {},
   "outputs": [
    {
     "data": {
      "text/plain": [
       "['Catan',\n",
       " 'CatanNoExchange',\n",
       " 'Century',\n",
       " 'Durak',\n",
       " 'Exploding_Kitten',\n",
       " 'Fantan',\n",
       " 'GoFish',\n",
       " 'Imploding_Kitten',\n",
       " 'MachiKoro',\n",
       " 'Poker',\n",
       " 'Sheriff',\n",
       " 'Splendor',\n",
       " 'Splendor_v2',\n",
       " 'Splendor_v3',\n",
       " 'StoneAge',\n",
       " 'SushiGo',\n",
       " 'TicketToRide',\n",
       " 'TLMN',\n",
       " 'WelcomeToTheDungeon_v1',\n",
       " 'WelcomeToTheDungeon_v2']"
      ]
     },
     "execution_count": 3,
     "metadata": {},
     "output_type": "execute_result"
    }
   ],
   "source": [
    "import os\n",
    "os.listdir(\"A:\\ENV\\Base\")"
   ]
  }
 ],
 "metadata": {
  "kernelspec": {
   "display_name": "Python 3",
   "language": "python",
   "name": "python3"
  },
  "language_info": {
   "codemirror_mode": {
    "name": "ipython",
    "version": 3
   },
   "file_extension": ".py",
   "mimetype": "text/x-python",
   "name": "python",
   "nbconvert_exporter": "python",
   "pygments_lexer": "ipython3",
   "version": "3.10.0"
  },
  "orig_nbformat": 4
 },
 "nbformat": 4,
 "nbformat_minor": 2
}
