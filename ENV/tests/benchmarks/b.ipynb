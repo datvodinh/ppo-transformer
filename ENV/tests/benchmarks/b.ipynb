{
 "cells": [
  {
   "cell_type": "code",
   "execution_count": 2,
   "metadata": {},
   "outputs": [
    {
     "name": "stdout",
     "output_type": "stream",
     "text": [
      "/Users/mac/Monthy/ENV\n"
     ]
    }
   ],
   "source": [
    "%cd /Users/mac/Monthy/ENV"
   ]
  },
  {
   "cell_type": "code",
   "execution_count": null,
   "metadata": {},
   "outputs": [],
   "source": [
    "import env\n",
    "env.make(\"Splendor_v2\")\n",
    "env.render()"
   ]
  },
  {
   "cell_type": "code",
   "execution_count": null,
   "metadata": {},
   "outputs": [],
   "source": [
    "%cd A:/ENV"
   ]
  },
  {
   "cell_type": "code",
   "execution_count": 8,
   "metadata": {},
   "outputs": [
    {
     "data": {
      "text/plain": [
       "['Catan',\n",
       " 'CatanNoExchange',\n",
       " 'Century',\n",
       " 'Durak',\n",
       " 'Exploding_Kitten',\n",
       " 'Fantan',\n",
       " 'GoFish',\n",
       " 'Imploding_Kitten',\n",
       " 'MachiKoro',\n",
       " 'Poker',\n",
       " 'RockPaperScissors',\n",
       " 'Sheriff',\n",
       " 'Splendor',\n",
       " 'Splendor_v2',\n",
       " 'Splendor_v3',\n",
       " 'StoneAge',\n",
       " 'SushiGo',\n",
       " 'TLMN',\n",
       " 'TicketToRide',\n",
       " 'WelcomeToTheDungeon_v1',\n",
       " 'WelcomeToTheDungeon_v2',\n",
       " '__init__.py',\n",
       " '__pycache__']"
      ]
     },
     "execution_count": 8,
     "metadata": {},
     "output_type": "execute_result"
    }
   ],
   "source": [
    "import os\n",
    "sorted(os.listdir('/Users/mac/Monthy/ENV/src/Base'))"
   ]
  }
 ],
 "metadata": {
  "kernelspec": {
   "display_name": "Python 3",
   "language": "python",
   "name": "python3"
  },
  "language_info": {
   "codemirror_mode": {
    "name": "ipython",
    "version": 3
   },
   "file_extension": ".py",
   "mimetype": "text/x-python",
   "name": "python",
   "nbconvert_exporter": "python",
   "pygments_lexer": "ipython3",
   "version": "3.10.1"
  },
  "orig_nbformat": 4
 },
 "nbformat": 4,
 "nbformat_minor": 2
}
