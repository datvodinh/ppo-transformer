{
  "cells": [
    {
      "cell_type": "code",
      "execution_count": 1,
      "metadata": {
        "colab": {
          "base_uri": "https://localhost:8080/"
        },
        "id": "SWaMG4dkUYEH",
        "outputId": "cbad4ab0-bc83-41ef-cdc6-ea62f12e7d62"
      },
      "outputs": [
        {
          "name": "stdout",
          "output_type": "stream",
          "text": [
            "Cloning into 'ENV'...\n",
            "remote: Enumerating objects: 5022, done.\u001b[K\n",
            "remote: Counting objects: 100% (162/162), done.\u001b[K\n",
            "remote: Compressing objects: 100% (77/77), done.\u001b[K\n",
            "remote: Total 5022 (delta 90), reused 118 (delta 71), pack-reused 4860\u001b[K\n",
            "Receiving objects: 100% (5022/5022), 281.48 MiB | 16.31 MiB/s, done.\n",
            "Resolving deltas: 100% (2147/2147), done.\n",
            "Updating files: 100% (1189/1189), done.\n",
            "/content/ENV\n"
          ]
        }
      ],
      "source": [
        "!git clone https://github.com/ngoxuanphong/ENV.git\n",
        "%cd ENV\n",
        "# !pip install -r requirements.txt"
      ]
    },
    {
      "cell_type": "code",
      "execution_count": 3,
      "metadata": {
        "colab": {
          "base_uri": "https://localhost:8080/"
        },
        "id": "IC8ubkhtUnir",
        "outputId": "e4500eb1-5776-4a8b-bfcc-a97a094ad844"
      },
      "outputs": [
        {
          "data": {
            "text/plain": [
              "(214, [0])"
            ]
          },
          "execution_count": 3,
          "metadata": {},
          "output_type": "execute_result"
        }
      ],
      "source": [
        "import env\n",
        "from numba import njit\n",
        "import numpy as np\n",
        "\n",
        "@njit()\n",
        "def Agent(state, agent_data):\n",
        "    validActions = env.getValidActions(state)\n",
        "    actions = np.where(validActions==1)[0]\n",
        "    action = np.random.choice(actions)\n",
        "    return action, agent_data\n",
        "    \n",
        "env.make('SushiGo')\n",
        "env.run(Agent, num_game = 1000, agent_model = [0], level = 0)"
      ]
    }
  ],
  "metadata": {
    "colab": {
      "provenance": []
    },
    "kernelspec": {
      "display_name": "Python 3",
      "name": "python3"
    },
    "language_info": {
      "codemirror_mode": {
        "name": "ipython",
        "version": 3
      },
      "file_extension": ".py",
      "mimetype": "text/x-python",
      "name": "python",
      "nbconvert_exporter": "python",
      "pygments_lexer": "ipython3",
      "version": "3.10.1"
    }
  },
  "nbformat": 4,
  "nbformat_minor": 0
}
